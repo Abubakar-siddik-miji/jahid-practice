{
 "cells": [
  {
   "cell_type": "code",
   "execution_count": 1,
   "id": "ec33568f",
   "metadata": {},
   "outputs": [],
   "source": [
    "data = 'jahid pracaticee'"
   ]
  },
  {
   "cell_type": "code",
   "execution_count": 2,
   "id": "00cd5c51",
   "metadata": {},
   "outputs": [
    {
     "data": {
      "text/plain": [
       "str"
      ]
     },
     "execution_count": 2,
     "metadata": {},
     "output_type": "execute_result"
    }
   ],
   "source": [
    "type(data)"
   ]
  },
  {
   "cell_type": "code",
   "execution_count": 3,
   "id": "3649d1b6",
   "metadata": {},
   "outputs": [
    {
     "name": "stdout",
     "output_type": "stream",
     "text": [
      "jahid try to solve this \n"
     ]
    }
   ],
   "source": [
    "data  =input()\n"
   ]
  },
  {
   "cell_type": "code",
   "execution_count": 4,
   "id": "262b1e3c",
   "metadata": {},
   "outputs": [
    {
     "data": {
      "text/plain": [
       "'jahid try to solve this '"
      ]
     },
     "execution_count": 4,
     "metadata": {},
     "output_type": "execute_result"
    }
   ],
   "source": [
    "data"
   ]
  },
  {
   "cell_type": "code",
   "execution_count": 5,
   "id": "ff319f8c",
   "metadata": {},
   "outputs": [
    {
     "data": {
      "text/plain": [
       "10.5"
      ]
     },
     "execution_count": 5,
     "metadata": {},
     "output_type": "execute_result"
    }
   ],
   "source": [
    "10.5\n"
   ]
  },
  {
   "cell_type": "code",
   "execution_count": 6,
   "id": "2a0459ec",
   "metadata": {},
   "outputs": [
    {
     "data": {
      "text/plain": [
       "'jahid try to solve this '"
      ]
     },
     "execution_count": 6,
     "metadata": {},
     "output_type": "execute_result"
    }
   ],
   "source": [
    "data"
   ]
  },
  {
   "cell_type": "code",
   "execution_count": 7,
   "id": "2d6f1d92",
   "metadata": {},
   "outputs": [
    {
     "data": {
      "text/plain": [
       "float"
      ]
     },
     "execution_count": 7,
     "metadata": {},
     "output_type": "execute_result"
    }
   ],
   "source": [
    "float"
   ]
  },
  {
   "cell_type": "code",
   "execution_count": 9,
   "id": "28c13b2f",
   "metadata": {},
   "outputs": [
    {
     "name": "stdout",
     "output_type": "stream",
     "text": [
      "10\n",
      "20 \n"
     ]
    }
   ],
   "source": [
    "x= input()\n",
    "y= input()\n"
   ]
  },
  {
   "cell_type": "code",
   "execution_count": 10,
   "id": "27fc6fb7",
   "metadata": {},
   "outputs": [
    {
     "data": {
      "text/plain": [
       "'1020 '"
      ]
     },
     "execution_count": 10,
     "metadata": {},
     "output_type": "execute_result"
    }
   ],
   "source": [
    "x+y"
   ]
  },
  {
   "cell_type": "code",
   "execution_count": 11,
   "id": "58f26f71",
   "metadata": {},
   "outputs": [
    {
     "data": {
      "text/plain": [
       "str"
      ]
     },
     "execution_count": 11,
     "metadata": {},
     "output_type": "execute_result"
    }
   ],
   "source": [
    "type(y)"
   ]
  },
  {
   "cell_type": "code",
   "execution_count": 12,
   "id": "97e4f1ca",
   "metadata": {},
   "outputs": [],
   "source": [
    "x= int(x)\n",
    "y=int(y)\n"
   ]
  },
  {
   "cell_type": "code",
   "execution_count": 13,
   "id": "c4f4035d",
   "metadata": {},
   "outputs": [
    {
     "data": {
      "text/plain": [
       "30"
      ]
     },
     "execution_count": 13,
     "metadata": {},
     "output_type": "execute_result"
    }
   ],
   "source": [
    "x+y"
   ]
  },
  {
   "cell_type": "code",
   "execution_count": 14,
   "id": "84c51738",
   "metadata": {},
   "outputs": [
    {
     "name": "stdout",
     "output_type": "stream",
     "text": [
      "enter your first num: 200\n"
     ]
    }
   ],
   "source": [
    "x= int(input('enter your first num: '))"
   ]
  },
  {
   "cell_type": "code",
   "execution_count": 15,
   "id": "6483a133",
   "metadata": {},
   "outputs": [
    {
     "name": "stdout",
     "output_type": "stream",
     "text": [
      "2030.5\n"
     ]
    },
    {
     "ename": "ValueError",
     "evalue": "invalid literal for int() with base 10: '30.5'",
     "output_type": "error",
     "traceback": [
      "\u001b[1;31m---------------------------------------------------------------------------\u001b[0m",
      "\u001b[1;31mValueError\u001b[0m                                Traceback (most recent call last)",
      "\u001b[1;32m~\\AppData\\Local\\Temp\\ipykernel_11732\\2624006240.py\u001b[0m in \u001b[0;36m<module>\u001b[1;34m\u001b[0m\n\u001b[1;32m----> 1\u001b[1;33m \u001b[0my\u001b[0m\u001b[1;33m=\u001b[0m \u001b[0mint\u001b[0m\u001b[1;33m(\u001b[0m\u001b[0minput\u001b[0m\u001b[1;33m(\u001b[0m\u001b[0my\u001b[0m\u001b[1;33m)\u001b[0m\u001b[1;33m)\u001b[0m\u001b[1;33m\u001b[0m\u001b[1;33m\u001b[0m\u001b[0m\n\u001b[0m",
      "\u001b[1;31mValueError\u001b[0m: invalid literal for int() with base 10: '30.5'"
     ]
    }
   ],
   "source": [
    "y= int(input(y))\n"
   ]
  },
  {
   "cell_type": "code",
   "execution_count": 16,
   "id": "3a848aca",
   "metadata": {},
   "outputs": [
    {
     "name": "stdout",
     "output_type": "stream",
     "text": [
      "enter your second number:20.5\n"
     ]
    },
    {
     "ename": "ValueError",
     "evalue": "invalid literal for int() with base 10: '20.5'",
     "output_type": "error",
     "traceback": [
      "\u001b[1;31m---------------------------------------------------------------------------\u001b[0m",
      "\u001b[1;31mValueError\u001b[0m                                Traceback (most recent call last)",
      "\u001b[1;32m~\\AppData\\Local\\Temp\\ipykernel_11732\\1547041229.py\u001b[0m in \u001b[0;36m<module>\u001b[1;34m\u001b[0m\n\u001b[1;32m----> 1\u001b[1;33m \u001b[0my\u001b[0m\u001b[1;33m=\u001b[0m \u001b[0mint\u001b[0m\u001b[1;33m(\u001b[0m\u001b[0minput\u001b[0m\u001b[1;33m(\u001b[0m\u001b[1;34m'enter your second number:'\u001b[0m\u001b[1;33m)\u001b[0m\u001b[1;33m)\u001b[0m\u001b[1;33m\u001b[0m\u001b[1;33m\u001b[0m\u001b[0m\n\u001b[0m",
      "\u001b[1;31mValueError\u001b[0m: invalid literal for int() with base 10: '20.5'"
     ]
    }
   ],
   "source": [
    "y= int(input('enter your second number:'))"
   ]
  },
  {
   "cell_type": "code",
   "execution_count": 1,
   "id": "dde95fdb",
   "metadata": {},
   "outputs": [
    {
     "name": "stdout",
     "output_type": "stream",
     "text": [
      "Enter your first number:10\n"
     ]
    }
   ],
   "source": [
    "x=float(input('Enter your first number:'))"
   ]
  },
  {
   "cell_type": "code",
   "execution_count": 2,
   "id": "a02071c7",
   "metadata": {},
   "outputs": [
    {
     "name": "stdout",
     "output_type": "stream",
     "text": [
      "Enter your secound number:20.7\n"
     ]
    }
   ],
   "source": [
    "y=float(input('Enter your secound number:'))"
   ]
  },
  {
   "cell_type": "code",
   "execution_count": 3,
   "id": "0bfdedc3",
   "metadata": {},
   "outputs": [
    {
     "data": {
      "text/plain": [
       "30.7"
      ]
     },
     "execution_count": 3,
     "metadata": {},
     "output_type": "execute_result"
    }
   ],
   "source": [
    "x+y\n"
   ]
  },
  {
   "cell_type": "code",
   "execution_count": 4,
   "id": "3af0358b",
   "metadata": {},
   "outputs": [],
   "source": [
    "data= 'jahid practice'"
   ]
  },
  {
   "cell_type": "code",
   "execution_count": 5,
   "id": "10852cf9",
   "metadata": {},
   "outputs": [
    {
     "data": {
      "text/plain": [
       "str"
      ]
     },
     "execution_count": 5,
     "metadata": {},
     "output_type": "execute_result"
    }
   ],
   "source": [
    "type(data)"
   ]
  },
  {
   "cell_type": "code",
   "execution_count": 6,
   "id": "4bd4919e",
   "metadata": {},
   "outputs": [
    {
     "data": {
      "text/plain": [
       "14"
      ]
     },
     "execution_count": 6,
     "metadata": {},
     "output_type": "execute_result"
    }
   ],
   "source": [
    "len(data)"
   ]
  },
  {
   "cell_type": "code",
   "execution_count": 7,
   "id": "5f3d7e96",
   "metadata": {},
   "outputs": [
    {
     "ename": "SyntaxError",
     "evalue": "invalid syntax (2280146353.py, line 1)",
     "output_type": "error",
     "traceback": [
      "\u001b[1;36m  File \u001b[1;32m\"C:\\Users\\Abu Bakkar\\AppData\\Local\\Temp\\ipykernel_11428\\2280146353.py\"\u001b[1;36m, line \u001b[1;32m1\u001b[0m\n\u001b[1;33m    inport sys\u001b[0m\n\u001b[1;37m           ^\u001b[0m\n\u001b[1;31mSyntaxError\u001b[0m\u001b[1;31m:\u001b[0m invalid syntax\n"
     ]
    }
   ],
   "source": [
    "inport sys \n",
    "sys.getsizeof(data)"
   ]
  },
  {
   "cell_type": "code",
   "execution_count": 8,
   "id": "b987a807",
   "metadata": {},
   "outputs": [
    {
     "data": {
      "text/plain": [
       "63"
      ]
     },
     "execution_count": 8,
     "metadata": {},
     "output_type": "execute_result"
    }
   ],
   "source": [
    "import sys\n",
    "sys.getsizeof(data)"
   ]
  },
  {
   "cell_type": "code",
   "execution_count": 9,
   "id": "d0956006",
   "metadata": {},
   "outputs": [
    {
     "data": {
      "text/plain": [
       "1"
      ]
     },
     "execution_count": 9,
     "metadata": {},
     "output_type": "execute_result"
    }
   ],
   "source": [
    "data.count('jahid')"
   ]
  },
  {
   "cell_type": "code",
   "execution_count": 10,
   "id": "19e0cf8a",
   "metadata": {},
   "outputs": [],
   "source": [
    "sub='practice'"
   ]
  },
  {
   "cell_type": "code",
   "execution_count": 11,
   "id": "20cd8d9a",
   "metadata": {},
   "outputs": [],
   "source": [
    "sub= 'data'"
   ]
  },
  {
   "cell_type": "markdown",
   "id": "d8b33b95",
   "metadata": {},
   "source": [
    "# python sticng methods\n"
   ]
  },
  {
   "cell_type": "code",
   "execution_count": 12,
   "id": "795e93ce",
   "metadata": {},
   "outputs": [],
   "source": [
    "data= 'jahid hossen nayeem'"
   ]
  },
  {
   "cell_type": "code",
   "execution_count": 13,
   "id": "ea9df0d6",
   "metadata": {},
   "outputs": [
    {
     "data": {
      "text/plain": [
       "13"
      ]
     },
     "execution_count": 13,
     "metadata": {},
     "output_type": "execute_result"
    }
   ],
   "source": [
    "data.find('nayeem')"
   ]
  },
  {
   "cell_type": "code",
   "execution_count": 14,
   "id": "42404813",
   "metadata": {},
   "outputs": [
    {
     "data": {
      "text/plain": [
       "10"
      ]
     },
     "execution_count": 14,
     "metadata": {},
     "output_type": "execute_result"
    }
   ],
   "source": [
    "data.find('e')"
   ]
  },
  {
   "cell_type": "code",
   "execution_count": 16,
   "id": "c8ab1ede",
   "metadata": {},
   "outputs": [
    {
     "data": {
      "text/plain": [
       "1"
      ]
     },
     "execution_count": 16,
     "metadata": {},
     "output_type": "execute_result"
    }
   ],
   "source": [
    "data.find('a')"
   ]
  },
  {
   "cell_type": "code",
   "execution_count": 17,
   "id": "5ac0511f",
   "metadata": {},
   "outputs": [
    {
     "data": {
      "text/plain": [
       "15"
      ]
     },
     "execution_count": 17,
     "metadata": {},
     "output_type": "execute_result"
    }
   ],
   "source": [
    "data.find('y',10,20)#find fun ar kajk"
   ]
  },
  {
   "cell_type": "code",
   "execution_count": 20,
   "id": "9409daba",
   "metadata": {},
   "outputs": [
    {
     "data": {
      "text/plain": [
       "-1"
      ]
     },
     "execution_count": 20,
     "metadata": {},
     "output_type": "execute_result"
    }
   ],
   "source": [
    "data.find('a',6,10)"
   ]
  },
  {
   "cell_type": "code",
   "execution_count": 21,
   "id": "05bc80fb",
   "metadata": {},
   "outputs": [
    {
     "data": {
      "text/plain": [
       "14"
      ]
     },
     "execution_count": 21,
     "metadata": {},
     "output_type": "execute_result"
    }
   ],
   "source": [
    "data.find('a',10,20)"
   ]
  },
  {
   "cell_type": "code",
   "execution_count": 22,
   "id": "89497534",
   "metadata": {},
   "outputs": [
    {
     "data": {
      "text/plain": [
       "14"
      ]
     },
     "execution_count": 22,
     "metadata": {},
     "output_type": "execute_result"
    }
   ],
   "source": [
    "data.index('a',10,20)"
   ]
  },
  {
   "cell_type": "code",
   "execution_count": 23,
   "id": "31743e56",
   "metadata": {},
   "outputs": [
    {
     "ename": "ValueError",
     "evalue": "substring not found",
     "output_type": "error",
     "traceback": [
      "\u001b[1;31m---------------------------------------------------------------------------\u001b[0m",
      "\u001b[1;31mValueError\u001b[0m                                Traceback (most recent call last)",
      "\u001b[1;32m~\\AppData\\Local\\Temp\\ipykernel_11428\\3748192467.py\u001b[0m in \u001b[0;36m<module>\u001b[1;34m\u001b[0m\n\u001b[1;32m----> 1\u001b[1;33m \u001b[0mdata\u001b[0m\u001b[1;33m.\u001b[0m\u001b[0mindex\u001b[0m\u001b[1;33m(\u001b[0m\u001b[1;34m'a'\u001b[0m\u001b[1;33m,\u001b[0m\u001b[1;36m6\u001b[0m\u001b[1;33m,\u001b[0m\u001b[1;36m10\u001b[0m\u001b[1;33m)\u001b[0m\u001b[1;33m\u001b[0m\u001b[1;33m\u001b[0m\u001b[0m\n\u001b[0m",
      "\u001b[1;31mValueError\u001b[0m: substring not found"
     ]
    }
   ],
   "source": [
    "data.index('a',6,10)# find jodi valu na pay tahole print kore -1 but index jodi kno deta na pay tahole error dekhabe"
   ]
  },
  {
   "cell_type": "code",
   "execution_count": 24,
   "id": "5283bc41",
   "metadata": {},
   "outputs": [
    {
     "data": {
      "text/plain": [
       "'jahid hossen nayeem'"
      ]
     },
     "execution_count": 24,
     "metadata": {},
     "output_type": "execute_result"
    }
   ],
   "source": [
    "data.lower()# lower"
   ]
  },
  {
   "cell_type": "code",
   "execution_count": 25,
   "id": "8b276a25",
   "metadata": {},
   "outputs": [
    {
     "data": {
      "text/plain": [
       "'JAHID HOSSEN NAYEEM'"
      ]
     },
     "execution_count": 25,
     "metadata": {},
     "output_type": "execute_result"
    }
   ],
   "source": [
    "data.upper()#convert all letter to capital letter"
   ]
  },
  {
   "cell_type": "code",
   "execution_count": 26,
   "id": "6acec71d",
   "metadata": {},
   "outputs": [
    {
     "data": {
      "text/plain": [
       "'jahid hossen nayeem'"
      ]
     },
     "execution_count": 26,
     "metadata": {},
     "output_type": "execute_result"
    }
   ],
   "source": [
    "data.casefold()#convert all letter to small letter"
   ]
  },
  {
   "cell_type": "code",
   "execution_count": 28,
   "id": "c194c2b7",
   "metadata": {},
   "outputs": [],
   "source": [
    "x= 'data is fun'"
   ]
  },
  {
   "cell_type": "code",
   "execution_count": 29,
   "id": "7aaed7af",
   "metadata": {},
   "outputs": [
    {
     "data": {
      "text/plain": [
       "'Data is fun'"
      ]
     },
     "execution_count": 29,
     "metadata": {},
     "output_type": "execute_result"
    }
   ],
   "source": [
    "x.capitalize()#convert fast letter only "
   ]
  },
  {
   "cell_type": "code",
   "execution_count": 30,
   "id": "06e35dd0",
   "metadata": {},
   "outputs": [
    {
     "data": {
      "text/plain": [
       "'DATA IS FUN'"
      ]
     },
     "execution_count": 30,
     "metadata": {},
     "output_type": "execute_result"
    }
   ],
   "source": [
    "x.swapcase()"
   ]
  },
  {
   "cell_type": "code",
   "execution_count": 31,
   "id": "2f97f63c",
   "metadata": {},
   "outputs": [
    {
     "data": {
      "text/plain": [
       "'Data Is Fun'"
      ]
     },
     "execution_count": 31,
     "metadata": {},
     "output_type": "execute_result"
    }
   ],
   "source": [
    "x.title()"
   ]
  },
  {
   "cell_type": "code",
   "execution_count": 32,
   "id": "75542592",
   "metadata": {},
   "outputs": [
    {
     "data": {
      "text/plain": [
       "True"
      ]
     },
     "execution_count": 32,
     "metadata": {},
     "output_type": "execute_result"
    }
   ],
   "source": [
    "x.islower()"
   ]
  },
  {
   "cell_type": "code",
   "execution_count": 33,
   "id": "32c6b060",
   "metadata": {},
   "outputs": [
    {
     "data": {
      "text/plain": [
       "False"
      ]
     },
     "execution_count": 33,
     "metadata": {},
     "output_type": "execute_result"
    }
   ],
   "source": [
    "x.isupper()"
   ]
  },
  {
   "cell_type": "code",
   "execution_count": 34,
   "id": "3f0b6d34",
   "metadata": {},
   "outputs": [
    {
     "data": {
      "text/plain": [
       "False"
      ]
     },
     "execution_count": 34,
     "metadata": {},
     "output_type": "execute_result"
    }
   ],
   "source": [
    "x.isdigit()"
   ]
  },
  {
   "cell_type": "code",
   "execution_count": 35,
   "id": "69a80225",
   "metadata": {},
   "outputs": [
    {
     "data": {
      "text/plain": [
       "b'data is fun'"
      ]
     },
     "execution_count": 35,
     "metadata": {},
     "output_type": "execute_result"
    }
   ],
   "source": [
    "x.encode()"
   ]
  },
  {
   "cell_type": "code",
   "execution_count": 36,
   "id": "31efc91a",
   "metadata": {},
   "outputs": [
    {
     "data": {
      "text/plain": [
       "bytes"
      ]
     },
     "execution_count": 36,
     "metadata": {},
     "output_type": "execute_result"
    }
   ],
   "source": [
    "type(x.encode())"
   ]
  },
  {
   "cell_type": "code",
   "execution_count": 37,
   "id": "8418b074",
   "metadata": {},
   "outputs": [
    {
     "data": {
      "text/plain": [
       "'data is fun'"
      ]
     },
     "execution_count": 37,
     "metadata": {},
     "output_type": "execute_result"
    }
   ],
   "source": [
    "x"
   ]
  },
  {
   "cell_type": "code",
   "execution_count": 38,
   "id": "5fb001d6",
   "metadata": {},
   "outputs": [
    {
     "data": {
      "text/plain": [
       "['data', 'is', 'fun']"
      ]
     },
     "execution_count": 38,
     "metadata": {},
     "output_type": "execute_result"
    }
   ],
   "source": [
    "x.split()"
   ]
  },
  {
   "cell_type": "code",
   "execution_count": 39,
   "id": "8e25e59c",
   "metadata": {},
   "outputs": [
    {
     "data": {
      "text/plain": [
       "'is'"
      ]
     },
     "execution_count": 39,
     "metadata": {},
     "output_type": "execute_result"
    }
   ],
   "source": [
    "x.split()[1]"
   ]
  },
  {
   "cell_type": "code",
   "execution_count": 40,
   "id": "767e3f7e",
   "metadata": {},
   "outputs": [
    {
     "data": {
      "text/plain": [
       "'                   data is fun                    '"
      ]
     },
     "execution_count": 40,
     "metadata": {},
     "output_type": "execute_result"
    }
   ],
   "source": [
    "x.center(50)"
   ]
  },
  {
   "cell_type": "code",
   "execution_count": 41,
   "id": "5d908a31",
   "metadata": {},
   "outputs": [
    {
     "data": {
      "text/plain": [
       "'ai is fun'"
      ]
     },
     "execution_count": 41,
     "metadata": {},
     "output_type": "execute_result"
    }
   ],
   "source": [
    "x.replace('data','ai')"
   ]
  },
  {
   "cell_type": "code",
   "execution_count": 42,
   "id": "8001035f",
   "metadata": {},
   "outputs": [
    {
     "name": "stdout",
     "output_type": "stream",
     "text": [
      "i have 110 taka\n"
     ]
    }
   ],
   "source": [
    "x= 10\n",
    "y= 100\n",
    "z=x+y\n",
    "print('i have',z,'taka')"
   ]
  },
  {
   "cell_type": "code",
   "execution_count": 44,
   "id": "64918247",
   "metadata": {},
   "outputs": [
    {
     "name": "stdout",
     "output_type": "stream",
     "text": [
      "i have {} taka 110\n"
     ]
    }
   ],
   "source": [
    "print('i have {} taka',format(z))"
   ]
  },
  {
   "cell_type": "code",
   "execution_count": 45,
   "id": "a332dfe6",
   "metadata": {},
   "outputs": [
    {
     "name": "stdout",
     "output_type": "stream",
     "text": [
      "i have 110 taka\n"
     ]
    }
   ],
   "source": [
    "print('i have {} taka'.format(z))"
   ]
  },
  {
   "cell_type": "code",
   "execution_count": null,
   "id": "d61de77a",
   "metadata": {},
   "outputs": [],
   "source": []
  }
 ],
 "metadata": {
  "kernelspec": {
   "display_name": "Python 3 (ipykernel)",
   "language": "python",
   "name": "python3"
  },
  "language_info": {
   "codemirror_mode": {
    "name": "ipython",
    "version": 3
   },
   "file_extension": ".py",
   "mimetype": "text/x-python",
   "name": "python",
   "nbconvert_exporter": "python",
   "pygments_lexer": "ipython3",
   "version": "3.9.13"
  }
 },
 "nbformat": 4,
 "nbformat_minor": 5
}
